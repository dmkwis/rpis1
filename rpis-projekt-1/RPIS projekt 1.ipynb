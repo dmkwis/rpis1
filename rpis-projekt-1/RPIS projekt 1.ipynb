{
 "cells": [
  {
   "cell_type": "markdown",
   "metadata": {},
   "source": [
    "Problem 2c (Squaring the histogram)"
   ]
  },
  {
   "cell_type": "markdown",
   "metadata": {},
   "source": [
    "* Show that this algorithm always ends. <br>\n",
    "Notice that we have a finite number of buckets. When we transfer probability from bucket B to bucket A, we fill bucket A so that it's full and we can possibly make bucket B not full, but it's filled more than bucket A previously was. Combining that with a fact, that total amount of probability is exactly the amount we need to fill every bucket to its fullest we can conclude, that the algorithm will always end."
   ]
  },
  {
   "cell_type": "markdown",
   "metadata": {},
   "source": [
    "* When it ends, each bucket contains pieces of at most two $p_i$'s. <br>\n",
    "At the beginning bucket can be either overflowing, be exactly full or be not full. If a bucket is exactly full, we do not perform any transfer to or from it (in the end there's only one $p_i$ in it). If a bucket is not full, we transfer probability to it from a bucket that is overflowing. We can see, that we can fill this bucket so that it is full, so in the end it will be filled with two $p_i$. Finally, if the bucket is overflowing we transfer probability from it to other buckets. If it ends up being exactly full we leave it and it has just one $p_i$ in itself, in other case we know that it is not full and it contains only one $p_i$ - that case was considered previously."
   ]
  },
  {
   "cell_type": "code",
   "execution_count": 4,
   "metadata": {},
   "outputs": [
    {
     "name": "stdout",
     "output_type": "stream",
     "text": [
      "Average number of generated days in b-day paradox simulations: 24.619395819484453\n",
      "CPU times: user 1.07 s, sys: 54.9 ms, total: 1.13 s\n",
      "Wall time: 1.14 s\n"
     ]
    },
    {
     "data": {
      "image/png": "[encoded data removed]",
      "text/plain": [
       "<Figure size 720x432 with 1 Axes>"
      ]
     },
     "metadata": {},
     "output_type": "display_data"
    }
   ],
   "source": [
    "%%time\n",
    "import numpy as np\n",
    "from collections import deque\n",
    "import matplotlib.pyplot as plt\n",
    "\n",
    "data = np.loadtxt('us_births_69_88.csv', dtype = int, skiprows = 1, delimiter=',')\n",
    "data = np.transpose(data)\n",
    "\n",
    "#creating buckets, managing cases of overflowing and not being full\n",
    "def create_buckets(data):\n",
    "    data_length = len(data)\n",
    "    mean_probability = 1./data_length\n",
    "    total_sum = np.sum(data)\n",
    "    probabilities = data/total_sum\n",
    "    \n",
    "    q_not_full = deque()\n",
    "    q_overflow = deque()\n",
    "    \n",
    "    for i in range(data_length):\n",
    "        if probabilities[i] < mean_probability:\n",
    "            q_not_full.append(i)\n",
    "        elif probabilities[i] > mean_probability:\n",
    "            q_overflow.append(i)\n",
    "    \n",
    "    buckets = np.array(probabilities)\n",
    "    additional_probability = np.full(data_length, -1)\n",
    "    \n",
    "    while len(q_not_full) > 0 and len(q_overflow) > 0:\n",
    "        not_full_index = q_not_full.pop()\n",
    "        overflow_index = q_overflow.pop()\n",
    "        \n",
    "        additional_probability[not_full_index] = overflow_index\n",
    "        amount_to_fill = mean_probability - buckets[not_full_index]\n",
    "        buckets[overflow_index] -= amount_to_fill\n",
    "        \n",
    "        if(buckets[overflow_index] < mean_probability):\n",
    "            q_not_full.append(overflow_index)\n",
    "        elif(buckets[overflow_index] > mean_probability):\n",
    "            q_overflow.append(overflow_index)\n",
    "    \n",
    "    return (buckets, additional_probability, data_length, mean_probability)\n",
    "        \n",
    "(buckets, additional_probability, data_length, mean_probability) = create_buckets(data[2])\n",
    "    \n",
    "#generating random days with given probability, used vectorizations\n",
    "def random_draws(how_many_draws):\n",
    "    choose_bucket = np.random.randint(data_length, size = how_many_draws, dtype = int)\n",
    "    choose_probability = np.random.uniform(0, mean_probability, size = how_many_draws)\n",
    "    #print(choose_bucket)\n",
    "    #print(choose_probability)\n",
    "    generated_draws = np.where(buckets[choose_bucket] > choose_probability, \n",
    "                               choose_bucket, additional_probability[choose_bucket])\n",
    "    #print(generated_draws)\n",
    "    return generated_draws\n",
    "\n",
    "#simulating b-day paradoxes with generated random days\n",
    "def simulate_birthday_paradoxes(number_of_generated_days):\n",
    "    draws = random_draws(number_of_generated_days)\n",
    "    birthday_paradox_cases = list()\n",
    "    set_of_days = set()\n",
    "    for day in draws:\n",
    "        if day in set_of_days:\n",
    "            birthday_paradox_cases.append(len(set_of_days) + 1)\n",
    "            set_of_days = set()\n",
    "        else:\n",
    "            set_of_days.add(day)\n",
    "    return birthday_paradox_cases\n",
    "\n",
    "#big number of days 10^7, for 10^6 simulation works in 1 second\n",
    "simulated = simulate_birthday_paradoxes(1000000)\n",
    "print(\"Average number of generated days in b-day paradox simulations:\", np.average(simulated))\n",
    "plt.figure(figsize = (10, 6))\n",
    "plt.hist(simulated, bins = range(100))"
   ]
  },
  {
   "cell_type": "code",
   "execution_count": null,
   "metadata": {},
   "outputs": [],
   "source": []
  }
 ],
 "metadata": {
  "kernelspec": {
   "display_name": "Python 3",
   "language": "python",
   "name": "python3"
  },
  "language_info": {
   "codemirror_mode": {
    "name": "ipython",
    "version": 3
   },
   "file_extension": ".py",
   "mimetype": "text/x-python",
   "name": "python",
   "nbconvert_exporter": "python",
   "pygments_lexer": "ipython3",
   "version": "3.6.9"
  }
 },
 "nbformat": 4,
 "nbformat_minor": 2
}
